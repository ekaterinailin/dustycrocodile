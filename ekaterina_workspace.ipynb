{
 "cells": [
  {
   "cell_type": "code",
   "execution_count": 229,
   "metadata": {},
   "outputs": [],
   "source": [
    "import pandas as pd\n",
    "import numpy as np\n",
    "import matplotlib.pyplot as plt\n",
    "%matplotlib inline\n",
    "import warnings\n",
    "warnings.filterwarnings('ignore')"
   ]
  },
  {
   "cell_type": "markdown",
   "metadata": {},
   "source": [
    "## Read in ALL THE DATA\n"
   ]
  },
  {
   "cell_type": "code",
   "execution_count": 230,
   "metadata": {},
   "outputs": [],
   "source": [
    "use = pd.read_csv('eurostat/Water_Use_Data_RBD.csv', )\n",
    "plant = pd.read_csv('eurostat/Treatment_plants_by_type_of_treatment_and_RBD.csv')\n",
    "abstr = pd.read_csv('eurostat/Water_Abstraction_Data_RBD.csv')\n",
    "waste = pd.read_csv('eurostat/Wastewater_generation_and_discharge_by_RBD.csv')\n",
    "treat = pd.read_csv('eurostat/Treatment_capacity_of_wastewater_treatment_plants_by_RBD.csv')\n",
    "pop = pd.read_csv('eurostat/Population_connected_to_wastewater_collection_and_treatment_systems_by_RBD.csv')\n",
    "fresh = pd.read_csv('eurostat/Freshwater_Resources_Data.csv')"
   ]
  },
  {
   "cell_type": "markdown",
   "metadata": {},
   "source": [
    "## ... and dust it ..."
   ]
  },
  {
   "cell_type": "code",
   "execution_count": 231,
   "metadata": {},
   "outputs": [],
   "source": [
    "vals = ['use','plant','abstr','waste','treat','pop','fresh']\n",
    "countries = {'BG' : 'Bulgaria', \n",
    "             'RO' : 'Romania', \n",
    "             'SI' : 'Slovenia', \n",
    "             'CH' : 'Switzerland', \n",
    "             'RS' : 'Serbia', \n",
    "             'CZ' : 'Czech Republic', \n",
    "             'DE' : 'Germany', \n",
    "             'HR' : 'Croatia', \n",
    "             'HU' : 'Hungary', \n",
    "             'AT' : 'Austria', \n",
    "             'SK' : 'Slovakia',\n",
    "             'PL' : 'Poland'}\n",
    "\n",
    "\n",
    "cols = [['NACE_R2','WAT_PROC'],\n",
    "        ['WW_TP','WW_TPAR'],\n",
    "        ['WAT_PROC','WAT_SRC'],\n",
    "        ['WW_GTD','SUBSTANCE'],\n",
    "        ['WW_TPAR','WW_TP'],\n",
    "        ['WW_TP'],\n",
    "        ['WAT_PROC'],]\n",
    "\n",
    "for idx, i in enumerate(vals):   \n",
    "    v = vars()[i]\n",
    "    v[v.Value == ':'] = np.nan\n",
    "    v.drop('Flag and Footnotes',axis=1,inplace=True)\n",
    "    v.dropna(subset=['Value'],inplace=True)\n",
    "    v.set_index(['RBD'],inplace=True,append=True)\n",
    "    v.set_index(['UNIT'],inplace=True,append=True)\n",
    "    v.set_index(cols[idx],inplace=True,append=True)\n",
    "    vars()[i] = v\n"
   ]
  },
  {
   "cell_type": "code",
   "execution_count": 232,
   "metadata": {},
   "outputs": [
    {
     "data": {
      "text/html": [
       "<div>\n",
       "<style scoped>\n",
       "    .dataframe tbody tr th:only-of-type {\n",
       "        vertical-align: middle;\n",
       "    }\n",
       "\n",
       "    .dataframe tbody tr th {\n",
       "        vertical-align: top;\n",
       "    }\n",
       "\n",
       "    .dataframe thead th {\n",
       "        text-align: right;\n",
       "    }\n",
       "</style>\n",
       "<table border=\"1\" class=\"dataframe\">\n",
       "  <thead>\n",
       "    <tr style=\"text-align: right;\">\n",
       "      <th></th>\n",
       "      <th></th>\n",
       "      <th></th>\n",
       "      <th></th>\n",
       "      <th></th>\n",
       "      <th>TIME</th>\n",
       "      <th>Value</th>\n",
       "    </tr>\n",
       "    <tr>\n",
       "      <th></th>\n",
       "      <th>RBD</th>\n",
       "      <th>UNIT</th>\n",
       "      <th>NACE_R2</th>\n",
       "      <th>WAT_PROC</th>\n",
       "      <th></th>\n",
       "      <th></th>\n",
       "    </tr>\n",
       "  </thead>\n",
       "  <tbody>\n",
       "    <tr>\n",
       "      <th>0</th>\n",
       "      <th>Belgium</th>\n",
       "      <th>Million cubic metres</th>\n",
       "      <th>Agriculture, forestry and fishing</th>\n",
       "      <th>Public water supply and self and other supply</th>\n",
       "      <td>2000.0</td>\n",
       "      <td>52.1</td>\n",
       "    </tr>\n",
       "    <tr>\n",
       "      <th>1</th>\n",
       "      <th>Belgium</th>\n",
       "      <th>Million cubic metres</th>\n",
       "      <th>Industry and construction</th>\n",
       "      <th>Public water supply and self and other supply</th>\n",
       "      <td>2000.0</td>\n",
       "      <td>6563.9</td>\n",
       "    </tr>\n",
       "    <tr>\n",
       "      <th>2</th>\n",
       "      <th>Belgium</th>\n",
       "      <th>Million cubic metres</th>\n",
       "      <th>Services</th>\n",
       "      <th>Public water supply and self and other supply</th>\n",
       "      <td>2000.0</td>\n",
       "      <td>398.4</td>\n",
       "    </tr>\n",
       "    <tr>\n",
       "      <th>3</th>\n",
       "      <th>Belgium</th>\n",
       "      <th>Million cubic metres</th>\n",
       "      <th>Households</th>\n",
       "      <th>Public water supply and self and other supply</th>\n",
       "      <td>2000.0</td>\n",
       "      <td>422.2</td>\n",
       "    </tr>\n",
       "    <tr>\n",
       "      <th>4</th>\n",
       "      <th>Belgium</th>\n",
       "      <th>Million cubic metres</th>\n",
       "      <th>All NACE activities plus households</th>\n",
       "      <th>Public water supply and self and other supply</th>\n",
       "      <td>2000.0</td>\n",
       "      <td>7436.6</td>\n",
       "    </tr>\n",
       "  </tbody>\n",
       "</table>\n",
       "</div>"
      ],
      "text/plain": [
       "                                                                                                                    TIME  \\\n",
       "  RBD     UNIT                 NACE_R2                             WAT_PROC                                                \n",
       "0 Belgium Million cubic metres Agriculture, forestry and fishing   Public water supply and self and other supply  2000.0   \n",
       "1 Belgium Million cubic metres Industry and construction           Public water supply and self and other supply  2000.0   \n",
       "2 Belgium Million cubic metres Services                            Public water supply and self and other supply  2000.0   \n",
       "3 Belgium Million cubic metres Households                          Public water supply and self and other supply  2000.0   \n",
       "4 Belgium Million cubic metres All NACE activities plus households Public water supply and self and other supply  2000.0   \n",
       "\n",
       "                                                                                                                   Value  \n",
       "  RBD     UNIT                 NACE_R2                             WAT_PROC                                               \n",
       "0 Belgium Million cubic metres Agriculture, forestry and fishing   Public water supply and self and other supply    52.1  \n",
       "1 Belgium Million cubic metres Industry and construction           Public water supply and self and other supply  6563.9  \n",
       "2 Belgium Million cubic metres Services                            Public water supply and self and other supply   398.4  \n",
       "3 Belgium Million cubic metres Households                          Public water supply and self and other supply   422.2  \n",
       "4 Belgium Million cubic metres All NACE activities plus households Public water supply and self and other supply  7436.6  "
      ]
     },
     "execution_count": 232,
     "metadata": {},
     "output_type": "execute_result"
    }
   ],
   "source": [
    "use.head()"
   ]
  },
  {
   "cell_type": "markdown",
   "metadata": {},
   "source": [
    "## Now get all the data for some river, say,  Danube (Donau):\n",
    "(...or try another one, good luck with finding data...)"
   ]
  },
  {
   "cell_type": "code",
   "execution_count": 233,
   "metadata": {},
   "outputs": [],
   "source": [
    "river = 'Danube'"
   ]
  },
  {
   "cell_type": "code",
   "execution_count": 234,
   "metadata": {},
   "outputs": [],
   "source": [
    "for v in vals:\n",
    "    x = vars()[v].index.get_level_values('RBD').str.contains(river)\n",
    "    vars()[v] = vars()[v][x]\n",
    "    if vars()[v].size == 0:\n",
    "        print('{} is empty.'.format(v))"
   ]
  },
  {
   "cell_type": "markdown",
   "metadata": {},
   "source": [
    "## Get all available observables"
   ]
  },
  {
   "cell_type": "code",
   "execution_count": 235,
   "metadata": {},
   "outputs": [
    {
     "data": {
      "text/html": [
       "<div>\n",
       "<style scoped>\n",
       "    .dataframe tbody tr th:only-of-type {\n",
       "        vertical-align: middle;\n",
       "    }\n",
       "\n",
       "    .dataframe tbody tr th {\n",
       "        vertical-align: top;\n",
       "    }\n",
       "\n",
       "    .dataframe thead th {\n",
       "        text-align: right;\n",
       "    }\n",
       "</style>\n",
       "<table border=\"1\" class=\"dataframe\">\n",
       "  <thead>\n",
       "    <tr style=\"text-align: right;\">\n",
       "      <th></th>\n",
       "      <th>DataSet</th>\n",
       "      <th>DataSetColumn</th>\n",
       "      <th>Parameter</th>\n",
       "    </tr>\n",
       "  </thead>\n",
       "  <tbody>\n",
       "    <tr>\n",
       "      <th>0</th>\n",
       "      <td>use</td>\n",
       "      <td>NACE_R2</td>\n",
       "      <td>Agriculture, forestry and fishing</td>\n",
       "    </tr>\n",
       "    <tr>\n",
       "      <th>1</th>\n",
       "      <td>use</td>\n",
       "      <td>NACE_R2</td>\n",
       "      <td>Households</td>\n",
       "    </tr>\n",
       "    <tr>\n",
       "      <th>2</th>\n",
       "      <td>use</td>\n",
       "      <td>NACE_R2</td>\n",
       "      <td>Services</td>\n",
       "    </tr>\n",
       "    <tr>\n",
       "      <th>3</th>\n",
       "      <td>use</td>\n",
       "      <td>NACE_R2</td>\n",
       "      <td>All NACE activities plus households</td>\n",
       "    </tr>\n",
       "  </tbody>\n",
       "</table>\n",
       "</div>"
      ],
      "text/plain": [
       "  DataSet DataSetColumn                            Parameter\n",
       "0     use       NACE_R2    Agriculture, forestry and fishing\n",
       "1     use       NACE_R2                           Households\n",
       "2     use       NACE_R2                             Services\n",
       "3     use       NACE_R2  All NACE activities plus households"
      ]
     },
     "execution_count": 235,
     "metadata": {},
     "output_type": "execute_result"
    }
   ],
   "source": [
    "p = pd.Series()\n",
    "d = pd.Series()\n",
    "sub = pd.Series()\n",
    "for i, v in enumerate(vals):\n",
    "    for idx in cols[i]:\n",
    "        x = list(set(vars()[v].index.get_level_values(idx)))\n",
    "        sub = sub.append(pd.Series([idx]*len(x)),\n",
    "                ignore_index=True)\n",
    "        p = p.append(pd.Series(x),\n",
    "                ignore_index=True)\n",
    "        d = d.append(pd.Series([v]*len(x)),\n",
    "                    ignore_index=True)\n",
    "params = pd.DataFrame({'DataSet':d,'DataSetColumn':sub,'Parameter':p})\n",
    "params.head(4)"
   ]
  },
  {
   "cell_type": "markdown",
   "metadata": {},
   "source": [
    "## Which countries do we find data on Danube in?"
   ]
  },
  {
   "cell_type": "code",
   "execution_count": 236,
   "metadata": {},
   "outputs": [
    {
     "data": {
      "text/plain": [
       "[]"
      ]
     },
     "execution_count": 236,
     "metadata": {},
     "output_type": "execute_result"
    }
   ],
   "source": [
    "l = []\n",
    "for i, v in enumerate(vals):\n",
    "    l.append(list(set(vars()[v].index.get_level_values('RBD').values)))\n",
    "danube = list(set([i for item in l for i in item]))\n",
    "rem = [item for item in danube if ('RBD' not in item)]\n",
    "for i in rem:\n",
    "    danube.remove(i) \n",
    "\n",
    "ds = [item[-3:-1] for item in danube]\n",
    "[countries[i] for i in ds]"
   ]
  },
  {
   "cell_type": "markdown",
   "metadata": {},
   "source": [
    "## Create files for all regions containing time-domain info on each available parameter:"
   ]
  },
  {
   "cell_type": "code",
   "execution_count": 180,
   "metadata": {},
   "outputs": [],
   "source": [
    "header = params.Parameter.tolist()\n",
    "for i, dan in enumerate(danube):\n",
    "    db = pd.DataFrame(index=np.arange(2000,2016))\n",
    "    for i, row in params.iterrows():\n",
    "        df = vars()[row.DataSet]\n",
    "        subdata = df[(df.index.get_level_values(row.DataSetColumn)==row.Parameter) & (df.index.get_level_values('RBD')==dan)]\n",
    "        units = list(set(subdata.index.get_level_values('UNIT').values))\n",
    "        if units != []:\n",
    "            for unit in units:\n",
    "                ssub = subdata[subdata.index.get_level_values('UNIT') == unit]\n",
    "                time = ssub.TIME.tolist()\n",
    "                values = ssub.Value.astype(float).tolist()\n",
    "                s = pd.DataFrame({'time':time,'values':values})\n",
    "                s = s.groupby('time').mean()\n",
    "                db['{} ({})'.format(row.Parameter,unit)] = s\n",
    "    db.to_csv('Danube/{}.csv'.format(dan[-3:-1]))"
   ]
  },
  {
   "cell_type": "markdown",
   "metadata": {},
   "source": [
    "## Now create river-dependent files for custom parameters ..."
   ]
  },
  {
   "cell_type": "code",
   "execution_count": 184,
   "metadata": {},
   "outputs": [],
   "source": [
    "water = pd.DataFrame()\n",
    "for idx in ds:\n",
    "    d =  pd.read_csv('Danube/{}.csv'.format(idx),index_col=0)\n",
    "    try:\n",
    "        f = d[['Fresh surface water (Million cubic metres)','Fresh groundwater (Million cubic metres)']]\n",
    "        f['ID'] = countries[idx]\n",
    "        f = f.set_index('ID',append=True)\n",
    "        water = water.append(f)\n",
    "    except KeyError:\n",
    "        pass\n",
    "\n",
    "water.to_csv('Danube/water_resources.csv')"
   ]
  },
  {
   "cell_type": "markdown",
   "metadata": {},
   "source": [
    "## ... or find correlations between parameters for selected regions ..."
   ]
  },
  {
   "cell_type": "code",
   "execution_count": 215,
   "metadata": {},
   "outputs": [
    {
     "data": {
      "text/html": [
       "<style  type=\"text/css\" >\n",
       "    #T_4211b752_618e_11e8_8cc6_54271e8d9087row0_col0 {\n",
       "            color:  black;\n",
       "        }    #T_4211b752_618e_11e8_8cc6_54271e8d9087row0_col1 {\n",
       "            color:  black;\n",
       "        }    #T_4211b752_618e_11e8_8cc6_54271e8d9087row0_col2 {\n",
       "            color:  black;\n",
       "        }    #T_4211b752_618e_11e8_8cc6_54271e8d9087row0_col3 {\n",
       "            color:  black;\n",
       "        }    #T_4211b752_618e_11e8_8cc6_54271e8d9087row0_col4 {\n",
       "            color:  black;\n",
       "        }    #T_4211b752_618e_11e8_8cc6_54271e8d9087row1_col0 {\n",
       "            color:  black;\n",
       "        }    #T_4211b752_618e_11e8_8cc6_54271e8d9087row1_col1 {\n",
       "            color:  black;\n",
       "        }    #T_4211b752_618e_11e8_8cc6_54271e8d9087row1_col2 {\n",
       "            color:  red;\n",
       "        }    #T_4211b752_618e_11e8_8cc6_54271e8d9087row1_col3 {\n",
       "            color:  red;\n",
       "        }    #T_4211b752_618e_11e8_8cc6_54271e8d9087row1_col4 {\n",
       "            color:  red;\n",
       "        }    #T_4211b752_618e_11e8_8cc6_54271e8d9087row2_col0 {\n",
       "            color:  black;\n",
       "        }    #T_4211b752_618e_11e8_8cc6_54271e8d9087row2_col1 {\n",
       "            color:  red;\n",
       "        }    #T_4211b752_618e_11e8_8cc6_54271e8d9087row2_col2 {\n",
       "            color:  black;\n",
       "        }    #T_4211b752_618e_11e8_8cc6_54271e8d9087row2_col3 {\n",
       "            color:  black;\n",
       "        }    #T_4211b752_618e_11e8_8cc6_54271e8d9087row2_col4 {\n",
       "            color:  red;\n",
       "        }    #T_4211b752_618e_11e8_8cc6_54271e8d9087row3_col0 {\n",
       "            color:  black;\n",
       "        }    #T_4211b752_618e_11e8_8cc6_54271e8d9087row3_col1 {\n",
       "            color:  red;\n",
       "        }    #T_4211b752_618e_11e8_8cc6_54271e8d9087row3_col2 {\n",
       "            color:  black;\n",
       "        }    #T_4211b752_618e_11e8_8cc6_54271e8d9087row3_col3 {\n",
       "            color:  black;\n",
       "        }    #T_4211b752_618e_11e8_8cc6_54271e8d9087row3_col4 {\n",
       "            color:  black;\n",
       "        }    #T_4211b752_618e_11e8_8cc6_54271e8d9087row4_col0 {\n",
       "            color:  black;\n",
       "        }    #T_4211b752_618e_11e8_8cc6_54271e8d9087row4_col1 {\n",
       "            color:  red;\n",
       "        }    #T_4211b752_618e_11e8_8cc6_54271e8d9087row4_col2 {\n",
       "            color:  red;\n",
       "        }    #T_4211b752_618e_11e8_8cc6_54271e8d9087row4_col3 {\n",
       "            color:  black;\n",
       "        }    #T_4211b752_618e_11e8_8cc6_54271e8d9087row4_col4 {\n",
       "            color:  black;\n",
       "        }</style>  \n",
       "<table id=\"T_4211b752_618e_11e8_8cc6_54271e8d9087\" > \n",
       "<thead>    <tr> \n",
       "        <th class=\"blank level0\" ></th> \n",
       "        <th class=\"col_heading level0 col0\" >Water abstraction for agriculture - irrigation (Million cubic metres)</th> \n",
       "        <th class=\"col_heading level0 col1\" >Water abstraction for public water supply (Million cubic metres)</th> \n",
       "        <th class=\"col_heading level0 col2\" >Total gross abstraction (Million cubic metres)</th> \n",
       "        <th class=\"col_heading level0 col3\" >Fresh groundwater (Million cubic metres)</th> \n",
       "        <th class=\"col_heading level0 col4\" >Fresh surface water (Million cubic metres)</th> \n",
       "    </tr></thead> \n",
       "<tbody>    <tr> \n",
       "        <th id=\"T_4211b752_618e_11e8_8cc6_54271e8d9087level0_row0\" class=\"row_heading level0 row0\" >Water abstraction for agriculture - irrigation (Million cubic metres)</th> \n",
       "        <td id=\"T_4211b752_618e_11e8_8cc6_54271e8d9087row0_col0\" class=\"data row0 col0\" >1</td> \n",
       "        <td id=\"T_4211b752_618e_11e8_8cc6_54271e8d9087row0_col1\" class=\"data row0 col1\" >0.474672</td> \n",
       "        <td id=\"T_4211b752_618e_11e8_8cc6_54271e8d9087row0_col2\" class=\"data row0 col2\" >0.602532</td> \n",
       "        <td id=\"T_4211b752_618e_11e8_8cc6_54271e8d9087row0_col3\" class=\"data row0 col3\" >0.422761</td> \n",
       "        <td id=\"T_4211b752_618e_11e8_8cc6_54271e8d9087row0_col4\" class=\"data row0 col4\" >0.637134</td> \n",
       "    </tr>    <tr> \n",
       "        <th id=\"T_4211b752_618e_11e8_8cc6_54271e8d9087level0_row1\" class=\"row_heading level0 row1\" >Water abstraction for public water supply (Million cubic metres)</th> \n",
       "        <td id=\"T_4211b752_618e_11e8_8cc6_54271e8d9087row1_col0\" class=\"data row1 col0\" >0.474672</td> \n",
       "        <td id=\"T_4211b752_618e_11e8_8cc6_54271e8d9087row1_col1\" class=\"data row1 col1\" >1</td> \n",
       "        <td id=\"T_4211b752_618e_11e8_8cc6_54271e8d9087row1_col2\" class=\"data row1 col2\" >Correlation!</td> \n",
       "        <td id=\"T_4211b752_618e_11e8_8cc6_54271e8d9087row1_col3\" class=\"data row1 col3\" >Correlation!</td> \n",
       "        <td id=\"T_4211b752_618e_11e8_8cc6_54271e8d9087row1_col4\" class=\"data row1 col4\" >Correlation!</td> \n",
       "    </tr>    <tr> \n",
       "        <th id=\"T_4211b752_618e_11e8_8cc6_54271e8d9087level0_row2\" class=\"row_heading level0 row2\" >Total gross abstraction (Million cubic metres)</th> \n",
       "        <td id=\"T_4211b752_618e_11e8_8cc6_54271e8d9087row2_col0\" class=\"data row2 col0\" >0.602532</td> \n",
       "        <td id=\"T_4211b752_618e_11e8_8cc6_54271e8d9087row2_col1\" class=\"data row2 col1\" >Correlation!</td> \n",
       "        <td id=\"T_4211b752_618e_11e8_8cc6_54271e8d9087row2_col2\" class=\"data row2 col2\" >1</td> \n",
       "        <td id=\"T_4211b752_618e_11e8_8cc6_54271e8d9087row2_col3\" class=\"data row2 col3\" >0.653247</td> \n",
       "        <td id=\"T_4211b752_618e_11e8_8cc6_54271e8d9087row2_col4\" class=\"data row2 col4\" >Correlation!</td> \n",
       "    </tr>    <tr> \n",
       "        <th id=\"T_4211b752_618e_11e8_8cc6_54271e8d9087level0_row3\" class=\"row_heading level0 row3\" >Fresh groundwater (Million cubic metres)</th> \n",
       "        <td id=\"T_4211b752_618e_11e8_8cc6_54271e8d9087row3_col0\" class=\"data row3 col0\" >0.422761</td> \n",
       "        <td id=\"T_4211b752_618e_11e8_8cc6_54271e8d9087row3_col1\" class=\"data row3 col1\" >Correlation!</td> \n",
       "        <td id=\"T_4211b752_618e_11e8_8cc6_54271e8d9087row3_col2\" class=\"data row3 col2\" >0.653247</td> \n",
       "        <td id=\"T_4211b752_618e_11e8_8cc6_54271e8d9087row3_col3\" class=\"data row3 col3\" >1</td> \n",
       "        <td id=\"T_4211b752_618e_11e8_8cc6_54271e8d9087row3_col4\" class=\"data row3 col4\" >0.615552</td> \n",
       "    </tr>    <tr> \n",
       "        <th id=\"T_4211b752_618e_11e8_8cc6_54271e8d9087level0_row4\" class=\"row_heading level0 row4\" >Fresh surface water (Million cubic metres)</th> \n",
       "        <td id=\"T_4211b752_618e_11e8_8cc6_54271e8d9087row4_col0\" class=\"data row4 col0\" >0.637134</td> \n",
       "        <td id=\"T_4211b752_618e_11e8_8cc6_54271e8d9087row4_col1\" class=\"data row4 col1\" >Correlation!</td> \n",
       "        <td id=\"T_4211b752_618e_11e8_8cc6_54271e8d9087row4_col2\" class=\"data row4 col2\" >Correlation!</td> \n",
       "        <td id=\"T_4211b752_618e_11e8_8cc6_54271e8d9087row4_col3\" class=\"data row4 col3\" >0.615552</td> \n",
       "        <td id=\"T_4211b752_618e_11e8_8cc6_54271e8d9087row4_col4\" class=\"data row4 col4\" >1</td> \n",
       "    </tr></tbody> \n",
       "</table> "
      ],
      "text/plain": [
       "<pandas.io.formats.style.Styler at 0x7f5432e550f0>"
      ]
     },
     "execution_count": 215,
     "metadata": {},
     "output_type": "execute_result"
    }
   ],
   "source": [
    "\n",
    "def color_red(val):\n",
    "    \"\"\"\n",
    "    Takes a scalar and returns a string with\n",
    "    the css property `'color: red'` for negative\n",
    "    strings, black otherwise.\n",
    "    \"\"\"\n",
    "    color = 'red' if type(val) == str else 'black'\n",
    "    return 'color: %s' % color\n",
    "\n",
    "\n",
    "\n",
    "d =  pd.read_csv('Danube/{}.csv'.format('SK'),index_col=0)\n",
    "corr = d.corr(min_periods=12).dropna(axis=1,how='all').dropna(axis=0,how='all')\n",
    "corr[((corr < 1.) & (corr > 0.7))] = 2.\n",
    "corr[corr == 2.] = 'Correlation!'\n",
    "\n",
    "corr.style.applymap(color_red)"
   ]
  },
  {
   "cell_type": "markdown",
   "metadata": {},
   "source": [
    "## ... plot stuff ..."
   ]
  },
  {
   "cell_type": "code",
   "execution_count": 241,
   "metadata": {},
   "outputs": [
    {
     "data": {
      "image/png": "[encoded data removed]",
      "text/plain": [
       "<matplotlib.figure.Figure at 0x7f5432b3a9b0>"
      ]
     },
     "metadata": {},
     "output_type": "display_data"
    }
   ],
   "source": [
    "plt.figure(figsize=(7,4))\n",
    "plt.plot(sk.index.values,\n",
    "        sk['Water abstraction for public water supply (Million cubic metres)'],\n",
    "        color = 'k',\n",
    "        label = 'public water abstraction')\n",
    "plt.plot(sk.index.values,\n",
    "        sk['Total gross abstraction (Million cubic metres)'],\n",
    "        label = 'total abstraction')\n",
    "plt.plot(sk.index.values,\n",
    "        sk['Fresh groundwater (Million cubic metres)'],\n",
    "        label = 'fresh groundwater',\n",
    "        color = 'red')\n",
    "plt.plot(sk.index.values,\n",
    "        sk['Fresh surface water (Million cubic metres)'],\n",
    "        label = 'fresh surface',\n",
    "        color = 'orange')\n",
    "plt.legend(bbox_to_anchor=(1, 1))\n",
    "plt.show()"
   ]
  },
  {
   "cell_type": "markdown",
   "metadata": {},
   "source": [
    "## And here's the code for our application to Danube\n",
    "(Creates massive amounts of html plots atm...)"
   ]
  },
  {
   "cell_type": "code",
   "execution_count": null,
   "metadata": {},
   "outputs": [],
   "source": [
    "import plotly as py\n",
    "import plotly.graph_objs as go\n",
    "\n",
    "df_d = pd.read_csv('Danube/water_resources.csv', index_col = [0, 1])\n",
    "\n",
    "df_d.loc[df_d.index.get_level_values(0) == 2001, 'Fresh surface water (Million cubic metres)']\n",
    "\n",
    "for year in np.arange(2000,2016):\n",
    "    vars()['df_d' + str(year)] = df_d[df_d.index.get_level_values(0) == year]\n",
    "\n",
    "for year in np.arange(2000,2016):\n",
    "    vars()['data' + str(year)] = dict (\n",
    "        type = 'choropleth',\n",
    "        locations = df_d.index.get_level_values('ID').unique(),\n",
    "        locationmode='country names',\n",
    "    #   colorscale = [1,2,3],\n",
    "        z = df_d.loc[df_d.index.get_level_values(0) == year, 'Fresh surface water (Million cubic metres)']\n",
    "    )\n",
    "    \n",
    "    vars()['lyt' + str(year)]= dict(geo=dict(scope='europe'),\n",
    "            title = 'Fresh surface water (Million cubic metres) in ' + str(year)\n",
    "        )\n",
    "    vars()['map' + str(year)] = go.Figure(data=[vars()['data' + str(year)]], layout = vars()['lyt' + str(year)])\n",
    "    \n",
    "    py.offline.plot(vars()['map' + str(year)], filename = 'map'+str(year)+'.html')"
   ]
  }
 ],
 "metadata": {
  "kernelspec": {
   "display_name": "Python 3",
   "language": "python",
   "name": "python3"
  },
  "language_info": {
   "codemirror_mode": {
    "name": "ipython",
    "version": 3
   },
   "file_extension": ".py",
   "mimetype": "text/x-python",
   "name": "python",
   "nbconvert_exporter": "python",
   "pygments_lexer": "ipython3",
   "version": "3.5.2"
  }
 },
 "nbformat": 4,
 "nbformat_minor": 2
}
